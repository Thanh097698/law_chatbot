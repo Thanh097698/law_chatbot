{
 "cells": [
  {
   "cell_type": "code",
   "execution_count": 15,
   "id": "26513a02",
   "metadata": {},
   "outputs": [
    {
     "name": "stdout",
     "output_type": "stream",
     "text": [
      "Câu hỏi: Hành vi bán hàng trái pháp luật bị gì\n",
      "Trả lời: {'answer': 'Dựa vào thông tin bạn cung cấp, hành vi bán hàng trái pháp luật có thể bị xử lý theo Điều 194 về Tội sản xuất, buôn bán hàng giả là thuốc chữa bệnh, thuốc phòng bệnh. Mức phạt tù có thể từ 2 năm đến 12 năm tùy thuộc vào tình tiết cụ thể của vụ án (ví dụ: có tổ chức, tái phạm nguy hiểm, v.v.).', 'contexts': ['Điều 53. Tái phạm, tái phạm nguy hiểm\\n1. Tái phạm là trường hợp đã bị kết án, chưa được xóa án tích mà lại thực hiện hành vi phạm tội \\ndo cố ý hoặc thực hiện hành vi phạm tội về tội phạm rất nghiêm trọng, tội phạm đặc biệt nghiêm \\ntrọng do vô ý. \\n2. Những trường hợp sau đây được coi là tái phạm nguy hiểm: \\na) Đã bị kết án về tội phạm rất nghiêm trọng, tội phạm đặc biệt nghiêm trọng do cố ý, chưa được \\nxóa án tích mà lại thực hiện hành vi phạm tội về tội phạm rất nghiêm trọng, tội phạm đặc biệt \\nnghiêm trọng do cố ý; \\nb) Đã tái phạm, chưa được xóa án tích mà lại thực hiện hành vi phạm tội do cố ý.  \\nMục 2. QUYẾT ĐỊNH HÌNH PHẠT TRONG CÁC TRƯỜNG HỢP CỤ THỂ', 'Điều 194. Tội sản xuất, buôn bán hàng giả là thuốc chữa bệnh, thuốc phòng bệnh\\n1. Người nào sản xuất, buôn bán hàng giả là thuốc chữa bệnh, thuốc phòng bệnh, thì bị phạt tù từ \\n02 năm đến 07 năm. \\n2.[134] Phạm tội thuộc một trong các trường hợp sau đây, thì bị phạt tù từ 05 năm đến 12 năm: \\na) Có tổ chức;  \\nb) Có tính chất chuyên nghiệp; \\nc) Tái phạm nguy hiểm; \\nd) Lợi dụng chức vụ, quyền hạn; \\nđ) Lợi dụng danh nghĩa cơ quan, tổ chức; \\ne) Buôn bán qua biên giới;', 'Điều 82. Các biện pháp tư pháp áp dụng đối với pháp nhân thương mại phạm tội\\n1. Tòa án có thể quyết định áp dụng các biện tư pháp sau đây đối với pháp nhân thương mại \\nphạm tội: \\na) Các biện pháp tư pháp quy định tại'], 'metadata': [{'producer': 'Microsoft® Word 2013', 'creator': 'Microsoft® Word 2013', 'creationdate': '2025-04-09T16:58:42+07:00', 'author': 'Administrator', 'moddate': '2025-04-09T16:58:42+07:00', 'source': 'law_data/11_VBHN-VPQH_650257.pdf', 'total_pages': 246, 'page': 15, 'page_label': '16'}, {'producer': 'Microsoft® Word 2013', 'creator': 'Microsoft® Word 2013', 'creationdate': '2025-04-09T16:58:42+07:00', 'author': 'Administrator', 'moddate': '2025-04-09T16:58:42+07:00', 'source': 'law_data/11_VBHN-VPQH_650257.pdf', 'total_pages': 246, 'page': 69, 'page_label': '70'}, {'producer': 'Microsoft® Word 2013', 'creator': 'Microsoft® Word 2013', 'creationdate': '2025-04-09T16:58:42+07:00', 'author': 'Administrator', 'moddate': '2025-04-09T16:58:42+07:00', 'source': 'law_data/11_VBHN-VPQH_650257.pdf', 'total_pages': 246, 'page': 24, 'page_label': '25'}]}\n"
     ]
    }
   ],
   "source": [
    "import requests\n",
    "\n",
    "url = \"https://web-production-8d724.up.railway.app/ask/\"\n",
    "payload = {\n",
    "    \"query\": \"Hành vi bán hàng trái pháp luật bị gì\"\n",
    "}\n",
    "\n",
    "response = requests.post(url, json=payload)\n",
    "\n",
    "if response.status_code == 200:\n",
    "    data = response.json()\n",
    "    print(\"Câu hỏi:\", data[\"question\"])\n",
    "    print(\"Trả lời:\", data[\"answer\"])\n",
    "else:\n",
    "    print(f\"Lỗi: {response.status_code}\")\n",
    "    print(response.text)"
   ]
  }
 ],
 "metadata": {
  "language_info": {
   "name": "python"
  }
 },
 "nbformat": 4,
 "nbformat_minor": 5
}
