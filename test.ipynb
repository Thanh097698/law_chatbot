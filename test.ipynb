{
 "cells": [
  {
   "cell_type": "code",
   "execution_count": 16,
   "id": "26513a02",
   "metadata": {},
   "outputs": [
    {
     "name": "stdout",
     "output_type": "stream",
     "text": [
      "Câu hỏi: Hành vi bán hàng trái pháp luật bị gì\n",
      "Trả lời: Dựa vào các điều luật được cung cấp, hành vi bán hàng trái pháp luật có thể bị xử lý như sau:\n",
      "\n",
      "*   **Nếu là bán hàng giả là thuốc chữa bệnh, thuốc phòng bệnh:**\n",
      "\n",
      "    *   **Mức cơ bản:** Phạt tù từ 02 năm đến 07 năm (Điều 194, khoản 1).\n",
      "    *   **Mức tăng nặng:** Phạt tù từ 05 năm đến 12 năm nếu có các tình tiết tăng nặng như có tổ chức, có tính chất chuyên nghiệp, tái phạm nguy hiểm, lợi dụng chức vụ, quyền hạn, lợi dụng danh nghĩa cơ quan, tổ chức, hoặc buôn bán qua biên giới (Điều 194, khoản 2).\n",
      "*   **Ngoài ra,** pháp nhân thương mại phạm tội có thể bị áp dụng các biện pháp tư pháp (Điều 82).\n",
      "\n",
      "**Lưu ý:** Các điều luật được cung cấp không đề cập đến tất cả các trường hợp bán hàng trái pháp luật, mà chỉ tập trung vào một số hành vi cụ thể.\n"
     ]
    }
   ],
   "source": [
    "import requests\n",
    "\n",
    "url = \"https://web-production-8d724.up.railway.app/ask/\"\n",
    "payload = {\n",
    "    \"query\": \"Hành vi bán hàng trái pháp luật bị gì\"\n",
    "}\n",
    "\n",
    "response = requests.post(url, json=payload)\n",
    "\n",
    "if response.status_code == 200:\n",
    "    data = response.json()\n",
    "    print(\"Câu hỏi:\", data[\"question\"])\n",
    "    print(\"Trả lời:\", data[\"answer\"])\n",
    "else:\n",
    "    print(f\"Lỗi: {response.status_code}\")\n",
    "    print(response.text)"
   ]
  }
 ],
 "metadata": {
  "language_info": {
   "name": "python"
  }
 },
 "nbformat": 4,
 "nbformat_minor": 5
}
